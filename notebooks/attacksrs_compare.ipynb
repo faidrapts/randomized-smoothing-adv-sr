{
 "cells": [
  {
   "cell_type": "code",
   "execution_count": 2,
   "metadata": {},
   "outputs": [],
   "source": [
    "import torch\n",
    "import torch.nn as nn\n",
    "import torch.nn.functional as F\n",
    "import torchvision\n",
    "import torchvision.transforms as transforms\n",
    "import numpy as np\n",
    "from torch.utils.data import Dataset\n",
    "import torch.optim as optim\n",
    "from tqdm import tqdm, trange\n",
    "import tqdm\n",
    "import matplotlib.pyplot as plt\n",
    "import matplotlib.gridspec as gridspec\n",
    "import math\n",
    "import os\n",
    "import pandas as pd\n",
    "from torch.utils.data import DataLoader\n",
    "from torchmetrics.functional import peak_signal_noise_ratio, structural_similarity_index_measure\n",
    "from unet_superresolution import UNetSR\n",
    "from imagenet_torch import ImageNet1000\n",
    "from smoothened_estimate import SmoothenedModel\n",
    "from adv import AttackerModel\n",
    "from evaluate_adv import seek_perturbation, test, perform_evaluation, tensor_to_imshow"
   ]
  },
  {
   "cell_type": "code",
   "execution_count": 21,
   "metadata": {},
   "outputs": [
    {
     "name": "stdout",
     "output_type": "stream",
     "text": [
      "Loading dataset into cache...\n"
     ]
    }
   ],
   "source": [
    "# evaluate on whole test set\n",
    "os.chdir('/faidra/project')\n",
    "test_data = ImageNet1000('./imagenet-mini/val', scaling_factor=2, use_cache=True)\n",
    "test_loader = torch.utils.data.Subset(test_data, range(0, 1000, 1))"
   ]
  },
  {
   "cell_type": "code",
   "execution_count": 6,
   "metadata": {},
   "outputs": [
    {
     "name": "stdout",
     "output_type": "stream",
     "text": [
      "Loading dataset into cache...\n"
     ]
    }
   ],
   "source": [
    "# evaluate on whole test set\n",
    "os.chdir('/faidra/project')\n",
    "test_data = ImageNet1000('./imagenet-mini/val', scaling_factor=2, use_cache=True)\n",
    "test_subset = torch.utils.data.Subset(test_data, range(0, 10, 1))\n",
    "test_dataloader = DataLoader(test_subset, batch_size=1, pin_memory=True, shuffle=False)\n",
    "\n",
    "device = 'cuda:1'\n",
    "modelname = 'model_02_50.pt'\n",
    "rs_base_model = torch.load(modelname).to(device)\n",
    "sigma = 0.2\n",
    "k=100\n",
    "\n",
    "smoothing_model = SmoothenedModel(rs_base_model, sigma, device)\n",
    "# smoothing_model = model\n",
    "normalize_inverse = transforms.Normalize(mean=[-0.4882/0.2777, -0.4431/0.2665, -0.3946/0.2739],\n",
    "                                            std=[1/0.2777, 1/0.2665, 1/0.2739])\n",
    "mse_loss = nn.MSELoss()\n",
    "\n",
    "lr, hr = test_data[0]\n",
    "# the dimensionality is later used to scale the adversarial perturbations.\n",
    "# print(lr.shape)\n",
    "n = np.prod(lr.shape)\n",
    "\n",
    "# will be multiplied by math.sqrt(n), where n is the image dimension (e.g. 3*32*32)\n",
    "\n",
    "# number of PGD iterations; with value 1 it is a variant of FastFGSM (not necessarily sufficiently strong attack)\n",
    "adv_iterations = 50\n",
    "\n",
    "psnrs_rs = []\n",
    "ssims_rs = []\n",
    "\n",
    "for eps_rel in [0, 0.01, 0.02, 0.05, 0.1, 0.15, 0.2]:\n",
    "    # specific attack settings defined below\n",
    "    # needs to be adapted for different settings (e.g. for classification one usually needs restarts and more iterations)\n",
    "    eps = eps_rel * math.sqrt(n) # eps_rel * 277\n",
    "    attack_kwargs01 = {\n",
    "        'constraint': \"2\",\n",
    "        'eps': eps,\n",
    "        'step_size': 2.5 * (eps / adv_iterations),\n",
    "        'iterations': adv_iterations,\n",
    "        'random_start': True,\n",
    "        'random_restarts': 2,\n",
    "        'use_best': False,\n",
    "        'random_mode': \"uniform_in_sphere\"\n",
    "    }\n",
    "\n",
    "    smooth_mse = []\n",
    "    smooth_psnr = []\n",
    "    smooth_ssim = []\n",
    "\n",
    "    for idx, (low_img, high_img) in enumerate(test_dataloader):\n",
    "        low_img = low_img.to(device)\n",
    "        high_img = high_img.to(device)\n",
    "\n",
    "        rs_adv_perturbed_input, rs_base_model_pred = seek_perturbation(\n",
    "            # uncomment one of the following two lines to attack either the adversarial or the randomized smoothing model\n",
    "            smoothing_model, low_img, high_img, make_adv=True, **attack_kwargs01)\n",
    "            #rs_base_model, low_img, high_img, make_adv=True, **attack_kwargs01)\n",
    "        \n",
    "        # uncomment one of the two following lines to evaluate either the adversarial or the randomized smoothing model\n",
    "        # smooth = smoothing_model(rs_adv_perturbed_input)\n",
    "        smooth = rs_base_model_pred\n",
    "        smooth = torch.clamp(smooth, 0., 1.)\n",
    "        \n",
    "        mse_smooth = mse_loss(\n",
    "            smooth.detach().cpu(), normalize_inverse(high_img).detach().cpu())\n",
    "        smooth_mse.append(mse_smooth)\n",
    "\n",
    "        psnr_smooth = peak_signal_noise_ratio(\n",
    "            smooth.detach().cpu(), normalize_inverse(high_img).detach().cpu())\n",
    "        smooth_psnr.append(psnr_smooth)\n",
    "\n",
    "        ssim_smooth = structural_similarity_index_measure(\n",
    "            smooth.detach().cpu(), normalize_inverse(high_img).detach().cpu())\n",
    "        smooth_ssim.append(ssim_smooth)\n",
    "\n",
    "    mse = sum(smooth_mse)/len(test_dataloader)\n",
    "    psnr = sum(smooth_psnr)/len(test_dataloader)\n",
    "    ssim = sum(smooth_ssim)/len(test_dataloader)\n",
    "    psnrs_rs.append(psnr)\n",
    "    ssims_rs.append(ssim)"
   ]
  },
  {
   "cell_type": "code",
   "execution_count": 7,
   "metadata": {},
   "outputs": [],
   "source": [
    "psnrs = []\n",
    "ssims = []\n",
    "\n",
    "for eps_rel in [0, 0.01, 0.02, 0.05, 0.1, 0.15, 0.2]:\n",
    "    # specific attack settings defined below\n",
    "    # needs to be adapted for different settings (e.g. for classification one usually needs restarts and more iterations)\n",
    "    eps = eps_rel * math.sqrt(n) # eps_rel * 277\n",
    "    attack_kwargs01 = {\n",
    "        'constraint': \"2\",\n",
    "        'eps': eps,\n",
    "        'step_size': 2.5 * (eps / adv_iterations),\n",
    "        'iterations': adv_iterations,\n",
    "        'random_start': True,\n",
    "        'random_restarts': 0,\n",
    "        'use_best': False,\n",
    "        'random_mode': \"uniform_in_sphere\"\n",
    "    }\n",
    "\n",
    "    smooth_mse = []\n",
    "    smooth_psnr = []\n",
    "    smooth_ssim = []\n",
    "\n",
    "    for idx, (low_img, high_img) in enumerate(test_dataloader):\n",
    "        low_img = low_img.to(device)\n",
    "        high_img = high_img.to(device)\n",
    "\n",
    "        rs_adv_perturbed_input, rs_base_model_pred = seek_perturbation(\n",
    "            # uncomment one of the following two lines to attack either the adversarial or the randomized smoothing model\n",
    "            # smoothing_model, low_img, high_img, make_adv=True, **attack_kwargs01)\n",
    "            rs_base_model, low_img, high_img, make_adv=True, **attack_kwargs01)\n",
    "        \n",
    "        # uncomment one of the two following lines to evaluate either the adversarial or the randomized smoothing model\n",
    "        smooth = smoothing_model(rs_adv_perturbed_input)\n",
    "        # smooth = rs_base_model_pred\n",
    "        smooth = torch.clamp(smooth, 0., 1.)\n",
    "        \n",
    "        mse_smooth = mse_loss(\n",
    "            smooth.detach().cpu(), normalize_inverse(high_img).detach().cpu())\n",
    "        smooth_mse.append(mse_smooth)\n",
    "\n",
    "        psnr_smooth = peak_signal_noise_ratio(\n",
    "            smooth.detach().cpu(), normalize_inverse(high_img).detach().cpu())\n",
    "        smooth_psnr.append(psnr_smooth)\n",
    "\n",
    "        ssim_smooth = structural_similarity_index_measure(\n",
    "            smooth.detach().cpu(), normalize_inverse(high_img).detach().cpu())\n",
    "        smooth_ssim.append(ssim_smooth)\n",
    "\n",
    "    mse = sum(smooth_mse)/len(test_dataloader)\n",
    "    psnr = sum(smooth_psnr)/len(test_dataloader)\n",
    "    ssim = sum(smooth_ssim)/len(test_dataloader)\n",
    "    psnrs.append(psnr)\n",
    "    ssims.append(ssim)\n",
    "    "
   ]
  },
  {
   "cell_type": "code",
   "execution_count": 8,
   "metadata": {},
   "outputs": [
    {
     "data": {
      "text/plain": [
       "<matplotlib.legend.Legend at 0x7f8fb84a7fa0>"
      ]
     },
     "execution_count": 8,
     "metadata": {},
     "output_type": "execute_result"
    },
    {
     "data": {
      "image/png": "[encoded data removed]",
      "text/plain": [
       "<Figure size 864x360 with 2 Axes>"
      ]
     },
     "metadata": {
      "needs_background": "light"
     },
     "output_type": "display_data"
    }
   ],
   "source": [
    "\n",
    "fig = plt.figure(figsize=(12, 5))\n",
    "fig.suptitle(f'Base model trained with ' + r'$\\sigma_{f}=0.2$')\n",
    "grid = gridspec.GridSpec(1, 2)\n",
    "\n",
    "ax1 = plt.subplot(grid[0, 0])\n",
    "ax1.set_xlabel(r'$\\epsilon_{rel}$')\n",
    "ax1.set_ylabel('PSNR')\n",
    "ax1.grid(which='both')\n",
    "\n",
    "ax2 = plt.subplot(grid[0, 1])\n",
    "ax2.set_xlabel(r'$\\epsilon_{rel}$')\n",
    "ax2.set_ylabel('SSIM')\n",
    "ax2.grid(which='both')\n",
    "\n",
    "\n",
    "ax1.plot([0, 0.01, 0.02, 0.05, 0.1, 0.15, 0.2], psnrs_rs, label='RS PGD attack, k =' + f'{k}', c='purple')\n",
    "ax1.plot([0, 0.01, 0.02, 0.05, 0.1, 0.15, 0.2], psnrs, label='Vanilla PGD attack', c='darkgreen')\n",
    "ax2.plot([0, 0.01, 0.02, 0.05, 0.1, 0.15, 0.2], ssims_rs, label='RS PGD attack, k ='+f'{k}', c='purple')\n",
    "ax2.plot([0, 0.01, 0.02, 0.05, 0.1, 0.15, 0.2], ssims, label='Vanilla PGD attack', c='darkgreen')\n",
    "ax2.legend(loc='upper left', bbox_to_anchor=(1, 1))"
   ]
  },
  {
   "cell_type": "code",
   "execution_count": 29,
   "metadata": {},
   "outputs": [
    {
     "name": "stdout",
     "output_type": "stream",
     "text": [
      "Loading dataset into cache...\n",
      "2.771281292110204\n",
      "2.771281201839447\n"
     ]
    }
   ],
   "source": [
    "# evaluate on whole test set\n",
    "os.chdir('/faidra/project')\n",
    "test_data = ImageNet1000('./imagenet-mini/val', scaling_factor=2, use_cache=True)\n",
    "test_subset = torch.utils.data.Subset(test_data, range(0, 100, 1))\n",
    "test_dataloader = DataLoader(test_subset, batch_size=1, pin_memory=True, shuffle=False)\n",
    "\n",
    "device = 'cuda:1'\n",
    "modelname = 'model_02_50.pt'\n",
    "rs_base_model = torch.load(modelname).to(device)\n",
    "sigma = 0.2\n",
    "\n",
    "smoothing_model = SmoothenedModel(rs_base_model, sigma, device)\n",
    "# smoothing_model = model\n",
    "normalize_inverse = transforms.Normalize(mean=[-0.4882/0.2777, -0.4431/0.2665, -0.3946/0.2739],\n",
    "                                            std=[1/0.2777, 1/0.2665, 1/0.2739])\n",
    "mse_loss = nn.MSELoss()\n",
    "\n",
    "lr, hr = test_data[0]\n",
    "# the dimensionality is later used to scale the adversarial perturbations.\n",
    "# print(lr.shape)\n",
    "n = np.prod(lr.shape)\n",
    "\n",
    "# will be multiplied by math.sqrt(n), where n is the image dimension (e.g. 3*32*32)\n",
    "\n",
    "# number of PGD iterations; with value 1 it is a variant of FastFGSM (not necessarily sufficiently strong attack)\n",
    "adv_iterations = 10\n",
    "\n",
    "psnrs_rs = []\n",
    "ssims_rs = []\n",
    "eps_rel=0.01\n",
    "\n",
    "# specific attack settings defined below\n",
    "# needs to be adapted for different settings (e.g. for classification one usually needs restarts and more iterations)\n",
    "eps = eps_rel * math.sqrt(n) # eps_rel * 277\n",
    "attack_kwargs01 = {\n",
    "    'constraint': \"2\",\n",
    "    'eps': eps,\n",
    "    'step_size': 2.5 * (eps / adv_iterations),\n",
    "    'iterations': adv_iterations,\n",
    "    'random_start': True,\n",
    "    'random_restarts': 0,\n",
    "    'use_best': False,\n",
    "    'random_mode': \"uniform_in_sphere\"\n",
    "}\n",
    "\n",
    "smooth_mse = []\n",
    "smooth_psnr = []\n",
    "smooth_ssim = []\n",
    "norms = []\n",
    "\n",
    "for idx, (low_img, high_img) in enumerate(test_dataloader):\n",
    "    low_img = low_img.to(device)\n",
    "    high_img = high_img.to(device)\n",
    "\n",
    "    rs_adv_perturbed_input, rs_base_model_pred = seek_perturbation(\n",
    "        # uncomment one of the following two lines to attack either the adversarial or the randomized smoothing model\n",
    "        #smoothing_model, low_img, high_img, make_adv=True, **attack_kwargs01)\n",
    "        rs_base_model, low_img, high_img, make_adv=True, **attack_kwargs01)\n",
    "    norms.append(np.linalg.norm((rs_adv_perturbed_input-low_img).detach().cpu().numpy()))\n",
    "    # uncomment one of the two following lines to evaluate either the adversarial or the randomized smoothing model\n",
    "    # smooth = smoothing_model(rs_adv_perturbed_input)\n",
    "    smooth = rs_base_model_pred\n",
    "    smooth = torch.clamp(smooth, 0., 1.)\n",
    "    \n",
    "    mse_smooth = mse_loss(\n",
    "        smooth.detach().cpu(), normalize_inverse(high_img).detach().cpu())\n",
    "    smooth_mse.append(mse_smooth)\n",
    "\n",
    "    psnr_smooth = peak_signal_noise_ratio(\n",
    "        smooth.detach().cpu(), normalize_inverse(high_img).detach().cpu())\n",
    "    smooth_psnr.append(psnr_smooth)\n",
    "\n",
    "    ssim_smooth = structural_similarity_index_measure(\n",
    "        smooth.detach().cpu(), normalize_inverse(high_img).detach().cpu())\n",
    "    smooth_ssim.append(ssim_smooth)\n",
    "\n",
    "mse = sum(smooth_mse)/len(test_dataloader)\n",
    "psnr = sum(smooth_psnr)/len(test_dataloader)\n",
    "ssim = sum(smooth_ssim)/len(test_dataloader)\n",
    "psnrs_rs.append(psnr)\n",
    "ssims_rs.append(ssim)\n",
    "\n",
    "norm_l2 = sum(norms)/len(test_dataloader)\n",
    "print(eps)\n",
    "print(norm_l2)"
   ]
  },
  {
   "cell_type": "code",
   "execution_count": 26,
   "metadata": {},
   "outputs": [
    {
     "name": "stdout",
     "output_type": "stream",
     "text": [
      "13.8564058303833\n",
      "13.856406460551021\n"
     ]
    }
   ],
   "source": [
    "print(norm_l2)\n",
    "print(eps)"
   ]
  },
  {
   "cell_type": "code",
   "execution_count": null,
   "metadata": {},
   "outputs": [],
   "source": []
  }
 ],
 "metadata": {
  "kernelspec": {
   "display_name": "py3.8",
   "language": "python",
   "name": "python3"
  },
  "language_info": {
   "codemirror_mode": {
    "name": "ipython",
    "version": 3
   },
   "file_extension": ".py",
   "mimetype": "text/x-python",
   "name": "python",
   "nbconvert_exporter": "python",
   "pygments_lexer": "ipython3",
   "version": "3.8.16"
  },
  "orig_nbformat": 4
 },
 "nbformat": 4,
 "nbformat_minor": 2
}
